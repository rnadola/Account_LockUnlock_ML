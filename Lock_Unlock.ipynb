{
 "cells": [
  {
   "cell_type": "code",
   "execution_count": 2,
   "id": "cd453c29",
   "metadata": {},
   "outputs": [],
   "source": [
    "import json"
   ]
  },
  {
   "cell_type": "code",
   "execution_count": 3,
   "id": "09f33708",
   "metadata": {},
   "outputs": [],
   "source": [
    "import boto3"
   ]
  },
  {
   "cell_type": "code",
   "execution_count": 4,
   "id": "0b17772a",
   "metadata": {},
   "outputs": [],
   "source": [
    "import urllib.request"
   ]
  },
  {
   "cell_type": "code",
   "execution_count": null,
   "id": "bc251dcd",
   "metadata": {},
   "outputs": [],
   "source": [
    "def lambda_handler(event, context):\n",
    "    ssm_client = boto3.client('ssm', region_name='ap-south-1')\n",
    "    \n",
    "    params={\"commands\":[\"usermod -U ops\"],\"workingDirectory\":[\"/tmp\"],\"executionTimeout\":[\"3600\"]}\n",
    "    \n",
    "    response = ssm_client.send_command(DocumentName=\"AWS-RunShellScript\", InstanceIds=[\"i-0484dcd187b23254e\"],Comment='logging the', TimeoutSeconds=600, Parameters=params)\n",
    "    \n",
    "    print(response)\n",
    "\n",
    "    # TODO implement\n",
    "    return {\n",
    "        'statusCode': 200,\n",
    "        'body': json.dumps('User Unlocked!')\n",
    "    }"
   ]
  }
 ],
 "metadata": {
  "kernelspec": {
   "display_name": "Python 3 (ipykernel)",
   "language": "python",
   "name": "python3"
  },
  "language_info": {
   "codemirror_mode": {
    "name": "ipython",
    "version": 3
   },
   "file_extension": ".py",
   "mimetype": "text/x-python",
   "name": "python",
   "nbconvert_exporter": "python",
   "pygments_lexer": "ipython3",
   "version": "3.9.12"
  }
 },
 "nbformat": 4,
 "nbformat_minor": 5
}
